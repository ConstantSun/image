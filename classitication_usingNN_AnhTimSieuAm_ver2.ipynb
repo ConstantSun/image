{
  "nbformat": 4,
  "nbformat_minor": 0,
  "metadata": {
    "colab": {
      "name": "copy 1 classitication_usingNN_AnhTimSieuAm.ipynb",
      "provenance": []
    },
    "kernelspec": {
      "name": "python3",
      "display_name": "Python 3"
    },
    "accelerator": "GPU"
  },
  "cells": [
    {
      "cell_type": "code",
      "metadata": {
        "id": "x-RATtvG-LS6",
        "colab_type": "code",
        "colab": {
          "base_uri": "https://localhost:8080/",
          "height": 122
        },
        "outputId": "c719b551-6ecd-4043-961c-a6bc7713e218"
      },
      "source": [
        "!pip install split-folders tqdm"
      ],
      "execution_count": 22,
      "outputs": [
        {
          "output_type": "stream",
          "text": [
            "Collecting split-folders\n",
            "  Downloading https://files.pythonhosted.org/packages/20/67/29dda743e6d23ac1ea3d16704d8bbb48d65faf3f1b1eaf53153b3da56c56/split_folders-0.3.1-py3-none-any.whl\n",
            "Requirement already satisfied: tqdm in /usr/local/lib/python3.6/dist-packages (4.38.0)\n",
            "Installing collected packages: split-folders\n",
            "Successfully installed split-folders-0.3.1\n"
          ],
          "name": "stdout"
        }
      ]
    },
    {
      "cell_type": "code",
      "metadata": {
        "id": "3wzkWhpRfNS7",
        "colab_type": "code",
        "colab": {
          "base_uri": "https://localhost:8080/",
          "height": 34
        },
        "outputId": "ddff7429-bd19-415c-8efe-87ac8b805603"
      },
      "source": [
        "!pwd"
      ],
      "execution_count": 23,
      "outputs": [
        {
          "output_type": "stream",
          "text": [
            "/content\n"
          ],
          "name": "stdout"
        }
      ]
    },
    {
      "cell_type": "code",
      "metadata": {
        "id": "sey2NeeSfGub",
        "colab_type": "code",
        "colab": {
          "base_uri": "https://localhost:8080/",
          "height": 34
        },
        "outputId": "f890bc21-9a4f-48b7-a8a8-76d5a928b3ab"
      },
      "source": [
        "% cd ../\n",
        "!cp -r '/content/drive/My Drive/image/DATA_CHAMBER_2020-03-03.zip' '/content'"
      ],
      "execution_count": 24,
      "outputs": [
        {
          "output_type": "stream",
          "text": [
            "/\n"
          ],
          "name": "stdout"
        }
      ]
    },
    {
      "cell_type": "code",
      "metadata": {
        "id": "nsfCIFFQfG6y",
        "colab_type": "code",
        "colab": {
          "base_uri": "https://localhost:8080/",
          "height": 34
        },
        "outputId": "b32029be-76a3-4c92-dca1-f90016603cad"
      },
      "source": [
        "% cd content/\n",
        "!unzip -q 'DATA_CHAMBER_2020-03-03.zip'"
      ],
      "execution_count": 25,
      "outputs": [
        {
          "output_type": "stream",
          "text": [
            "/content\n"
          ],
          "name": "stdout"
        }
      ]
    },
    {
      "cell_type": "code",
      "metadata": {
        "id": "_2LKJ3iofyo9",
        "colab_type": "code",
        "colab": {
          "base_uri": "https://localhost:8080/",
          "height": 34
        },
        "outputId": "f9730bd8-648a-44a8-fc9e-d96798aecedb"
      },
      "source": [
        "import split_folders\n",
        "\n",
        "split_folders.ratio('DATA_CHAMBER_2020-03-03', output=\"dataset\", ratio=(.8, .2)) \n"
      ],
      "execution_count": 50,
      "outputs": [
        {
          "output_type": "stream",
          "text": [
            "Copying files: 8324 files [00:02, 3335.43 files/s]\n"
          ],
          "name": "stderr"
        }
      ]
    },
    {
      "cell_type": "code",
      "metadata": {
        "id": "XJjrSBXai8IS",
        "colab_type": "code",
        "colab": {}
      },
      "source": [
        "!rm -rf dataset"
      ],
      "execution_count": 0,
      "outputs": []
    },
    {
      "cell_type": "code",
      "metadata": {
        "id": "ZABU3kuki8Yt",
        "colab_type": "code",
        "colab": {
          "base_uri": "https://localhost:8080/",
          "height": 34
        },
        "outputId": "ca3f3937-f8cf-4faa-fb94-4efb1cebbccf"
      },
      "source": [
        "% cd ../../"
      ],
      "execution_count": 33,
      "outputs": [
        {
          "output_type": "stream",
          "text": [
            "/content\n"
          ],
          "name": "stdout"
        }
      ]
    },
    {
      "cell_type": "code",
      "metadata": {
        "id": "bLB2t_Pki8hf",
        "colab_type": "code",
        "colab": {
          "base_uri": "https://localhost:8080/",
          "height": 34
        },
        "outputId": "e82df054-c3f2-4d85-b664-c608a0a8c7d4"
      },
      "source": [
        "% cd not/test_set/2C/"
      ],
      "execution_count": 30,
      "outputs": [
        {
          "output_type": "stream",
          "text": [
            "/content/not/test_set/2C\n"
          ],
          "name": "stdout"
        }
      ]
    },
    {
      "cell_type": "code",
      "metadata": {
        "id": "DTTS6qsRjGX8",
        "colab_type": "code",
        "colab": {
          "base_uri": "https://localhost:8080/",
          "height": 34
        },
        "outputId": "9c6b4e43-9692-4335-ba0f-bc3a99ccb13b"
      },
      "source": [
        "!ls -l | grep ^- | wc -l"
      ],
      "execution_count": 31,
      "outputs": [
        {
          "output_type": "stream",
          "text": [
            "558\n"
          ],
          "name": "stdout"
        }
      ]
    },
    {
      "cell_type": "markdown",
      "metadata": {
        "id": "a1WXLZ8I-PxB",
        "colab_type": "text"
      },
      "source": [
        "'dataset' folder is used now\n",
        "\n",
        "information:\n",
        "  + original source: DATA_CHAMBER_2020-03-03\n",
        "  + dataset contains: ~ 8320 imgs.\n",
        "            - test_set\n",
        "              --2C\n",
        "              --3C\n",
        "              --3C\n",
        "              --4C\n",
        "            - training_set\n",
        "              --2C\n",
        "              --3C\n",
        "              --4C\n",
        "  + training set is choose (in ordered) from the original DATA_CHAMBER_2020-03-03 ( training set accounts for ~80% of original data source)\n",
        "  + test set is the rest of the original data source. ( which is 20%)"
      ]
    },
    {
      "cell_type": "code",
      "metadata": {
        "id": "M7tu0q1GmIOQ",
        "colab_type": "code",
        "colab": {}
      },
      "source": [
        "import torch\n",
        "import matplotlib.pyplot as plt\n",
        "import numpy as np\n",
        "import torch.nn.functional as F\n",
        "from torchvision import datasets, transforms\n",
        "from torch import nn"
      ],
      "execution_count": 0,
      "outputs": []
    },
    {
      "cell_type": "code",
      "metadata": {
        "id": "UwNVja3f0l7n",
        "colab_type": "code",
        "colab": {}
      },
      "source": [
        "transform = transforms.Compose([transforms.Resize((80,120)),\n",
        "                                transforms.CenterCrop((64,85)),\n",
        "                                transforms.Grayscale(),\n",
        "                                transforms.ToTensor(),\n",
        "                                transforms.Normalize( [0.5], [0.5])])"
      ],
      "execution_count": 0,
      "outputs": []
    },
    {
      "cell_type": "code",
      "metadata": {
        "id": "2IT0vRpftxF0",
        "colab_type": "code",
        "colab": {}
      },
      "source": [
        "training_dataset = datasets.ImageFolder(root='dataset/training_set',transform=transform)\n",
        "validation_dataset = datasets.ImageFolder(root='dataset/test_set',transform=transform)\n",
        "\n",
        "training_loader =  torch.utils.data.DataLoader(dataset=training_dataset,  batch_size=100, shuffle=True,drop_last=True)\n",
        "validation_loader = torch.utils.data.DataLoader(dataset=validation_dataset,  batch_size=100, shuffle=True, drop_last=True)"
      ],
      "execution_count": 0,
      "outputs": []
    },
    {
      "cell_type": "code",
      "metadata": {
        "id": "nfQG5ppwi5O2",
        "colab_type": "code",
        "outputId": "cafa1c2d-0b67-44c4-b584-403b1ea8fe56",
        "colab": {
          "base_uri": "https://localhost:8080/",
          "height": 204
        }
      },
      "source": [
        "validation_dataset"
      ],
      "execution_count": 8,
      "outputs": [
        {
          "output_type": "execute_result",
          "data": {
            "text/plain": [
              "Dataset ImageFolder\n",
              "    Number of datapoints: 1666\n",
              "    Root location: dataset/test_set\n",
              "    StandardTransform\n",
              "Transform: Compose(\n",
              "               Resize(size=(80, 120), interpolation=PIL.Image.BILINEAR)\n",
              "               CenterCrop(size=(64, 85))\n",
              "               Grayscale(num_output_channels=1)\n",
              "               ToTensor()\n",
              "               Normalize(mean=[0.5], std=[0.5])\n",
              "           )"
            ]
          },
          "metadata": {
            "tags": []
          },
          "execution_count": 8
        }
      ]
    },
    {
      "cell_type": "code",
      "metadata": {
        "id": "OGxvrJ03jnE_",
        "colab_type": "code",
        "colab": {
          "base_uri": "https://localhost:8080/",
          "height": 204
        },
        "outputId": "e90741c0-971c-43c8-9080-4a8ad891b513"
      },
      "source": [
        "validation_dataset"
      ],
      "execution_count": 35,
      "outputs": [
        {
          "output_type": "execute_result",
          "data": {
            "text/plain": [
              "Dataset ImageFolder\n",
              "    Number of datapoints: 1667\n",
              "    Root location: not/test_set\n",
              "    StandardTransform\n",
              "Transform: Compose(\n",
              "               Resize(size=(80, 120), interpolation=PIL.Image.BILINEAR)\n",
              "               CenterCrop(size=(64, 85))\n",
              "               Grayscale(num_output_channels=1)\n",
              "               ToTensor()\n",
              "               Normalize(mean=[0.5], std=[0.5])\n",
              "           )"
            ]
          },
          "metadata": {
            "tags": []
          },
          "execution_count": 35
        }
      ]
    },
    {
      "cell_type": "code",
      "metadata": {
        "id": "YmDmKQMv6Ivy",
        "colab_type": "code",
        "outputId": "676a07ce-f89f-4789-b723-b6e7291b2630",
        "colab": {
          "base_uri": "https://localhost:8080/",
          "height": 34
        }
      },
      "source": [
        "print(training_dataset.class_to_idx)"
      ],
      "execution_count": 9,
      "outputs": [
        {
          "output_type": "stream",
          "text": [
            "{'2C': 0, '3C': 1, '4C': 2}\n"
          ],
          "name": "stdout"
        }
      ]
    },
    {
      "cell_type": "code",
      "metadata": {
        "id": "mi-ha9uxGTYB",
        "colab_type": "code",
        "colab": {}
      },
      "source": [
        ""
      ],
      "execution_count": 0,
      "outputs": []
    },
    {
      "cell_type": "code",
      "metadata": {
        "id": "GHXFT18-G7Os",
        "colab_type": "code",
        "outputId": "96ae1c58-12fc-476d-f24f-1c0c294c0ea5",
        "colab": {
          "base_uri": "https://localhost:8080/",
          "height": 391
        }
      },
      "source": [
        "print(training_loader.dataset,'\\n', validation_loader.dataset)"
      ],
      "execution_count": 10,
      "outputs": [
        {
          "output_type": "stream",
          "text": [
            "Dataset ImageFolder\n",
            "    Number of datapoints: 6658\n",
            "    Root location: dataset/training_set\n",
            "    StandardTransform\n",
            "Transform: Compose(\n",
            "               Resize(size=(80, 120), interpolation=PIL.Image.BILINEAR)\n",
            "               CenterCrop(size=(64, 85))\n",
            "               Grayscale(num_output_channels=1)\n",
            "               ToTensor()\n",
            "               Normalize(mean=[0.5], std=[0.5])\n",
            "           ) \n",
            " Dataset ImageFolder\n",
            "    Number of datapoints: 1666\n",
            "    Root location: dataset/test_set\n",
            "    StandardTransform\n",
            "Transform: Compose(\n",
            "               Resize(size=(80, 120), interpolation=PIL.Image.BILINEAR)\n",
            "               CenterCrop(size=(64, 85))\n",
            "               Grayscale(num_output_channels=1)\n",
            "               ToTensor()\n",
            "               Normalize(mean=[0.5], std=[0.5])\n",
            "           )\n"
          ],
          "name": "stdout"
        }
      ]
    },
    {
      "cell_type": "code",
      "metadata": {
        "id": "NzwTg4P4JwXj",
        "colab_type": "code",
        "colab": {}
      },
      "source": [
        "data_iter = iter(training_loader)\n",
        "images, labels = data_iter.next()"
      ],
      "execution_count": 0,
      "outputs": []
    },
    {
      "cell_type": "code",
      "metadata": {
        "id": "rqXPAtWkfrW1",
        "colab_type": "code",
        "outputId": "4dfe4633-3c2d-49c2-c449-f133486950e9",
        "colab": {
          "base_uri": "https://localhost:8080/",
          "height": 34
        }
      },
      "source": [
        "training_loader"
      ],
      "execution_count": 0,
      "outputs": [
        {
          "output_type": "execute_result",
          "data": {
            "text/plain": [
              "<torch.utils.data.dataloader.DataLoader at 0x7fe058dc3710>"
            ]
          },
          "metadata": {
            "tags": []
          },
          "execution_count": 25
        }
      ]
    },
    {
      "cell_type": "code",
      "metadata": {
        "id": "BYFQ_ijO4Gsf",
        "colab_type": "code",
        "outputId": "f1802fea-2550-421d-d1da-5d07b985edd0",
        "colab": {
          "base_uri": "https://localhost:8080/",
          "height": 298
        }
      },
      "source": [
        "im = images[0][0]\n",
        "plt.imshow(im,cmap='gray')\n",
        "plt.title(labels[0].item())"
      ],
      "execution_count": 55,
      "outputs": [
        {
          "output_type": "execute_result",
          "data": {
            "text/plain": [
              "Text(0.5, 1.0, '1')"
            ]
          },
          "metadata": {
            "tags": []
          },
          "execution_count": 55
        },
        {
          "output_type": "display_data",
          "data": {
            "image/png": "[encoded data removed]",
            "text/plain": [
              "<Figure size 432x288 with 1 Axes>"
            ]
          },
          "metadata": {
            "tags": [],
            "needs_background": "light"
          }
        }
      ]
    },
    {
      "cell_type": "code",
      "metadata": {
        "id": "xaT2_zi9M5BW",
        "colab_type": "code",
        "colab": {}
      },
      "source": [
        "class Classifier(nn.Module):\n",
        "  def __init__(self, D_in, H1, H2, D_out): # nn with 2 hidden layers\n",
        "    super().__init__()\n",
        "    self.linear1 = nn.Linear(D_in, H1)\n",
        "    self.linear2 = nn.Linear(H1, H2)\n",
        "    self.linear3 = nn.Linear(H2, D_out)\n",
        "  \n",
        "  def forward(self, x):\n",
        "    x = F.relu(self.linear1(x))\n",
        "    x = F.relu(self.linear2(x))\n",
        "    x = self.linear3(x)\n",
        "    return x\n"
      ],
      "execution_count": 0,
      "outputs": []
    },
    {
      "cell_type": "code",
      "metadata": {
        "id": "z4RrUCb8M5N1",
        "colab_type": "code",
        "outputId": "b6308193-59db-4626-878e-c3d96ebbdb3a",
        "colab": {
          "base_uri": "https://localhost:8080/",
          "height": 102
        }
      },
      "source": [
        "model = Classifier(5440, 1000, 50, 3)\n",
        "model"
      ],
      "execution_count": 57,
      "outputs": [
        {
          "output_type": "execute_result",
          "data": {
            "text/plain": [
              "Classifier(\n",
              "  (linear1): Linear(in_features=5440, out_features=1000, bias=True)\n",
              "  (linear2): Linear(in_features=1000, out_features=50, bias=True)\n",
              "  (linear3): Linear(in_features=50, out_features=3, bias=True)\n",
              ")"
            ]
          },
          "metadata": {
            "tags": []
          },
          "execution_count": 57
        }
      ]
    },
    {
      "cell_type": "code",
      "metadata": {
        "id": "QsDFcdKDM5YS",
        "colab_type": "code",
        "colab": {}
      },
      "source": [
        "criterion = nn.CrossEntropyLoss()\n",
        "optimizer = torch.optim.Adam(model.parameters(), lr = 0.01)"
      ],
      "execution_count": 0,
      "outputs": []
    },
    {
      "cell_type": "code",
      "metadata": {
        "id": "gvZs7WeMM5g3",
        "colab_type": "code",
        "outputId": "7b1b4b2b-97fc-48e9-c94d-a6f29a08e31d",
        "colab": {
          "base_uri": "https://localhost:8080/",
          "height": 187
        }
      },
      "source": [
        "from collections import OrderedDict\n",
        "\n",
        "epochs = 5\n",
        "running_loss_his = []\n",
        "running_corrects_his = []\n",
        "val_running_loss_his = []\n",
        "val_running_corrects_his = []\n",
        "for e in range(epochs):\n",
        "\n",
        "  running_loss = 0.0\n",
        "  running_corrects = 0.0\n",
        "  val_running_loss =0.0\n",
        "  val_running_corrects = 0.0\n",
        "\n",
        "  for inputs, labels in training_loader:\n",
        "    inputs = inputs.view(inputs.shape[0], -1) # flatten to 1x5440\n",
        "    # print('input shape: ', inputs.shape) \n",
        "    outputs = model(inputs)\n",
        "    loss = criterion(outputs, labels) \n",
        "\n",
        "    optimizer.zero_grad()\n",
        "    loss.backward()\n",
        "    optimizer.step()\n",
        "\n",
        "    _, preds = torch.max(outputs, 1)\n",
        "    running_loss += loss.item()\n",
        "    running_corrects += torch.sum(preds == labels.data)\n",
        "    # print('running_corrects = ', running_corrects)\n",
        "    running_loss += loss.item()\n",
        "\n",
        "  else:\n",
        "    with torch.no_grad(): # bcz this the val set, no need to cal grad() here\n",
        "      for val_inputs , val_labels in validation_loader:\n",
        "        val_inputs = val_inputs.view(val_inputs.shape[0], -1)\n",
        "        val_outputs = model(val_inputs)\n",
        "        val_loss = criterion(val_outputs, val_labels)\n",
        "        _, val_preds = torch.max(val_outputs, 1)\n",
        "      \n",
        "        val_running_loss += val_loss.item()\n",
        "        val_running_corrects += torch.sum(val_preds == val_labels.data)\n",
        "        # print('val_running_corrects = ', val_running_corrects)\n",
        "\n",
        "    epoch_loss = running_loss/len(training_loader)\n",
        "    epoch_acc = running_corrects.float()/len(training_loader)\n",
        "    running_loss_his.append(epoch_loss)\n",
        "    running_corrects_his.append(epoch_acc)\n",
        "\n",
        "    val_epoch_loss = val_running_loss/len(validation_loader)\n",
        "    val_epoch_acc = val_running_corrects.float()/len(validation_loader)\n",
        "    # print('val_running_corrects = ', val_running_corrects)\n",
        "    # print('length_val_loader = ', len(validation_loader))\n",
        "    val_running_loss_his.append(val_epoch_loss)\n",
        "    val_running_corrects_his.append(val_epoch_acc)\n",
        "\n",
        "    print('epoch ', e, '   training loss: ', epoch_loss, '      acc: ', epoch_acc.item())\n",
        "    print('epoch ', e, '   validation loss: ', val_epoch_loss, '      acc: ', val_epoch_acc.item())\n",
        "\n",
        "    state = OrderedDict([\n",
        "        ('state_dict', model.state_dict()),\n",
        "        ('optimizer', optimizer.state_dict()),\n",
        "        ('epoch', e),\n",
        "        ('accuracy', val_epoch_acc),\n",
        "    ])\n",
        "    torch.save(state, '/content/drive/My Drive/image/result_0/model__1.pth')\n",
        "    \n"
      ],
      "execution_count": 62,
      "outputs": [
        {
          "output_type": "stream",
          "text": [
            "epoch  0    training loss:  0.3909019563685764       acc:  92.30303192138672\n",
            "epoch  0    validation loss:  0.12069310783408582       acc:  96.0\n",
            "epoch  1    training loss:  0.13955596941664364       acc:  97.51515197753906\n",
            "epoch  1    validation loss:  0.03769326815381646       acc:  98.8125\n",
            "epoch  2    training loss:  0.04235424025153572       acc:  99.45454406738281\n",
            "epoch  2    validation loss:  0.022564961458556354       acc:  99.3125\n",
            "epoch  3    training loss:  0.3683666057150924       acc:  93.09091186523438\n",
            "epoch  3    validation loss:  0.13857328984886408       acc:  94.8125\n",
            "epoch  4    training loss:  0.07548996416682546       acc:  98.75757598876953\n",
            "epoch  4    validation loss:  0.0054777747427579015       acc:  99.9375\n"
          ],
          "name": "stdout"
        }
      ]
    },
    {
      "cell_type": "code",
      "metadata": {
        "id": "VEFSo1R7TsSt",
        "colab_type": "code",
        "colab": {
          "base_uri": "https://localhost:8080/",
          "height": 34
        },
        "outputId": "68d11d12-c462-4e82-a03b-69cc88b90510"
      },
      "source": [
        "!pwd"
      ],
      "execution_count": 19,
      "outputs": [
        {
          "output_type": "stream",
          "text": [
            "/content\n"
          ],
          "name": "stdout"
        }
      ]
    },
    {
      "cell_type": "markdown",
      "metadata": {
        "id": "W7VYjix6MmWJ",
        "colab_type": "text"
      },
      "source": [
        ""
      ]
    },
    {
      "cell_type": "code",
      "metadata": {
        "id": "czLWJ8245lNf",
        "colab_type": "code",
        "colab": {
          "base_uri": "https://localhost:8080/",
          "height": 34
        },
        "outputId": "4f08fab5-2395-4660-c695-be7879dc6241"
      },
      "source": [
        "from PIL import Image\n",
        "\n",
        "img_tensor = Image.open('/content/From20Frs__BAU 67T RCA__3C__IMG-0042-00001.dcm_5.jpg') # class 3C\n",
        "\n",
        "\n",
        "img_tensor = img_tensor.convert('1') # only select 1 channel\n",
        "img_tensor = transform(img_tensor)\n",
        "\n",
        "_img = img_tensor.reshape(1, -1)\n",
        "\n",
        "_, num = torch.max(model(_img), 1)\n",
        "num"
      ],
      "execution_count": 63,
      "outputs": [
        {
          "output_type": "execute_result",
          "data": {
            "text/plain": [
              "tensor([1])"
            ]
          },
          "metadata": {
            "tags": []
          },
          "execution_count": 63
        }
      ]
    }
  ]
}