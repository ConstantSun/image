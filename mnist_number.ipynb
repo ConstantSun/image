{
  "nbformat": 4,
  "nbformat_minor": 0,
  "metadata": {
    "colab": {
      "name": "mnist_number.ipynb",
      "provenance": []
    },
    "kernelspec": {
      "name": "python3",
      "display_name": "Python 3"
    },
    "accelerator": "GPU"
  },
  "cells": [
    {
      "cell_type": "code",
      "metadata": {
        "id": "xDx42eF80cxJ",
        "colab_type": "code",
        "colab": {}
      },
      "source": [
        "import torch\n",
        "import matplotlib.pyplot as plt\n",
        "import numpy as np\n",
        "import torch.nn.functional as F\n",
        "from torchvision import datasets, transforms\n",
        "from torch import nn"
      ],
      "execution_count": 0,
      "outputs": []
    },
    {
      "cell_type": "code",
      "metadata": {
        "id": "vmdqjIJi20_U",
        "colab_type": "code",
        "colab": {}
      },
      "source": [
        "transform = transforms.Compose([transforms.ToTensor(), # turn np array into tensor with range 0->1\n",
        "                                transforms.Normalize( [0.5], [0.5] ) ]) # mean=std=0.5 -> helps converting the range 0-1 into range -1 -> 1 ( reducing cuteness and distortion of the data)\n",
        "training_dataset = datasets.MNIST(root = './data', train = True, download=True, transform=transform)\n",
        "validation_dataset = datasets.MNIST(root = './data', train = False, download=True, transform=transform)\n",
        "\n",
        "training_loader = torch.utils.data.DataLoader(dataset=training_dataset, batch_size=100, shuffle=True ) # traning with batch_size =100 and shuffle data b4 tranining to help not getting local minimum\n",
        "validation_loader = torch.utils.data.DataLoader(dataset=validation_dataset, batch_size=100, shuffle=True ) # traning with batch_size =100 and shuffle data b4 tranining to help not getting local minimum\n"
      ],
      "execution_count": 0,
      "outputs": []
    },
    {
      "cell_type": "code",
      "metadata": {
        "id": "eXZgLdvB4-1W",
        "colab_type": "code",
        "colab": {}
      },
      "source": [
        ""
      ],
      "execution_count": 0,
      "outputs": []
    },
    {
      "cell_type": "code",
      "metadata": {
        "id": "Z6DogF9e-R9V",
        "colab_type": "code",
        "colab": {}
      },
      "source": [
        "def im_convert(tensor):\n",
        "  image = tensor.clone().detach().numpy() # image in the form (chanel, height, weight) (1, 28, 28)\n",
        "  image = image.transpose(1, 2, 0)        # image in the form (height, weight, chanel) (28, 28, 1)\n",
        "  image = image*np.array((0.5 , 0.5, 0.5)) + np.array((0.5 , 0.5, 0.5)) # change into original value of the pixel\n",
        "  image = image.clip(0, 1)      # ensure the range is 0,1\n",
        "  return image"
      ],
      "execution_count": 0,
      "outputs": []
    },
    {
      "cell_type": "code",
      "metadata": {
        "id": "naOEQuz1B_24",
        "colab_type": "code",
        "colab": {
          "base_uri": "https://localhost:8080/",
          "height": 301
        },
        "outputId": "afae9d26-34bf-49a8-f8db-433f0adc6360"
      },
      "source": [
        "dataiter = iter(training_loader)\n",
        "images, labels = dataiter.next()\n",
        "fig = plt.figure(figsize=(25, 4))\n",
        "\n",
        "for idx in np.arange(20):\n",
        "  ax = fig.add_subplot(2, 10, idx+1) # show img into 2 row 10 cols\n",
        "  plt.imshow(im_convert(images[idx]))\n",
        "  ax.set_title([labels[idx].item()])"
      ],
      "execution_count": 6,
      "outputs": [
        {
          "output_type": "display_data",
          "data": {
            "image/png": "[encoded data removed]",
            "text/plain": [
              "<Figure size 1800x288 with 20 Axes>"
            ]
          },
          "metadata": {
            "tags": []
          }
        }
      ]
    },
    {
      "cell_type": "code",
      "metadata": {
        "id": "0kBHtFXqKM-i",
        "colab_type": "code",
        "colab": {
          "base_uri": "https://localhost:8080/",
          "height": 34
        },
        "outputId": "efd2bb32-56e3-48ad-95c5-7a0fd37ec4a4"
      },
      "source": [
        "images.shape"
      ],
      "execution_count": 40,
      "outputs": [
        {
          "output_type": "execute_result",
          "data": {
            "text/plain": [
              "torch.Size([100, 1, 28, 28])"
            ]
          },
          "metadata": {
            "tags": []
          },
          "execution_count": 40
        }
      ]
    },
    {
      "cell_type": "code",
      "metadata": {
        "id": "QL0XEF57LmRV",
        "colab_type": "code",
        "colab": {}
      },
      "source": [
        "class Classifier(nn.Module):\n",
        "  def __init__(self, D_in, H1, H2, D_out): # nn with 2 hidden layers\n",
        "    super().__init__()\n",
        "    self.linear1 = nn.Linear(D_in, H1)\n",
        "    self.linear2 = nn.Linear(H1, H2)\n",
        "    self.linear3 = nn.Linear(H2, D_out)\n",
        "  \n",
        "  def forward(self, x):\n",
        "    x = F.relu(self.linear1(x))\n",
        "    x = F.relu(self.linear2(x))\n",
        "    x = self.linear3(x)\n",
        "    return x\n"
      ],
      "execution_count": 0,
      "outputs": []
    },
    {
      "cell_type": "code",
      "metadata": {
        "id": "-rvbkL-1OItH",
        "colab_type": "code",
        "colab": {
          "base_uri": "https://localhost:8080/",
          "height": 102
        },
        "outputId": "e7b84ec3-0280-44de-d956-1407afb54dc9"
      },
      "source": [
        "model = Classifier(784, 125, 65, 10)\n",
        "model"
      ],
      "execution_count": 8,
      "outputs": [
        {
          "output_type": "execute_result",
          "data": {
            "text/plain": [
              "Classifier(\n",
              "  (linear1): Linear(in_features=784, out_features=125, bias=True)\n",
              "  (linear2): Linear(in_features=125, out_features=65, bias=True)\n",
              "  (linear3): Linear(in_features=65, out_features=10, bias=True)\n",
              ")"
            ]
          },
          "metadata": {
            "tags": []
          },
          "execution_count": 8
        }
      ]
    },
    {
      "cell_type": "code",
      "metadata": {
        "id": "nBBX6CRiPG3I",
        "colab_type": "code",
        "colab": {}
      },
      "source": [
        "criterion = nn.CrossEntropyLoss()\n",
        "optimizer = torch.optim.Adam(model.parameters(), lr = 0.01)"
      ],
      "execution_count": 0,
      "outputs": []
    },
    {
      "cell_type": "code",
      "metadata": {
        "id": "rdnKGlXNPWoH",
        "colab_type": "code",
        "colab": {
          "base_uri": "https://localhost:8080/",
          "height": 357
        },
        "outputId": "58f66a86-567a-4f3f-9ddb-c945e86b8a38"
      },
      "source": [
        "epochs = 10\n",
        "running_loss_his = []\n",
        "running_corrects_his = []\n",
        "val_running_loss_his = []\n",
        "val_running_corrects_his = []\n",
        "for e in range(epochs):\n",
        "\n",
        "  running_loss = 0.0\n",
        "  running_corrects = 0.0\n",
        "  val_running_loss =0.0\n",
        "  val_running_corrects = 0.0\n",
        "\n",
        "  for inputs, labels in training_loader:\n",
        "    inputs = inputs.view(inputs.shape[0], -1) # flatten 28x28 -> 784\n",
        "    outputs = model(inputs)\n",
        "    loss = criterion(outputs, labels) \n",
        "\n",
        "    optimizer.zero_grad()\n",
        "    loss.backward()\n",
        "    optimizer.step()\n",
        "\n",
        "    _, preds = torch.max(outputs, 1)\n",
        "    running_loss += loss.item()\n",
        "    running_corrects += torch.sum(preds == labels.data)\n",
        "    running_loss += loss.item()\n",
        "\n",
        "  else:\n",
        "    with torch.no_grad(): # bcz this the val set, no need to cal grad() here\n",
        "      for val_inputs , val_labels in validation_loader:\n",
        "        val_inputs = val_inputs.view(val_inputs.shape[0], -1)\n",
        "        val_outputs = model(val_inputs)\n",
        "        val_loss = criterion(val_outputs, labels)\n",
        "\n",
        "      _, val_preds = torch.max(val_outputs, 1)\n",
        "      val_running_loss += val_loss.item()\n",
        "      val_running_corrects += torch.sum(preds == labels.data)\n",
        "\n",
        "    epoch_loss = running_loss/len(training_loader)\n",
        "    epoch_acc = running_corrects.float()/len(training_loader)\n",
        "    running_loss_his.append(epoch_loss)\n",
        "    running_corrects_his.append(epoch_acc)\n",
        "\n",
        "    val_epoch_loss = val_running_loss/len(training_loader)\n",
        "    val_epoch_acc = val_running_corrects.float()/len(training_loader)\n",
        "    val_running_loss_his.append(val_epoch_loss)\n",
        "    val_running_corrects_his.append(val_epoch_acc)\n",
        "\n",
        "    print('epoch ', e, '   training loss: ', epoch_loss, '      acc: ', epoch_acc)\n",
        "    print('epoch ', e, '   validation loss: ', epoch_loss, '      acc: ', epoch_acc)"
      ],
      "execution_count": 17,
      "outputs": [
        {
          "output_type": "stream",
          "text": [
            "epoch  0    training loss:  0.2679881419738134       acc:  tensor(96.0567)\n",
            "epoch  0    validation loss:  0.2679881419738134       acc:  tensor(96.0567)\n",
            "epoch  1    training loss:  0.25261795648684104       acc:  tensor(96.3533)\n",
            "epoch  1    validation loss:  0.25261795648684104       acc:  tensor(96.3533)\n",
            "epoch  2    training loss:  0.23796424999212226       acc:  tensor(96.4750)\n",
            "epoch  2    validation loss:  0.23796424999212226       acc:  tensor(96.4750)\n",
            "epoch  3    training loss:  0.22359055925160645       acc:  tensor(96.7533)\n",
            "epoch  3    validation loss:  0.22359055925160645       acc:  tensor(96.7533)\n",
            "epoch  4    training loss:  0.2104733766677479       acc:  tensor(96.9267)\n",
            "epoch  4    validation loss:  0.2104733766677479       acc:  tensor(96.9267)\n",
            "epoch  5    training loss:  0.19992635351295274       acc:  tensor(97.0317)\n",
            "epoch  5    validation loss:  0.19992635351295274       acc:  tensor(97.0317)\n",
            "epoch  6    training loss:  0.1893052625997613       acc:  tensor(97.2283)\n",
            "epoch  6    validation loss:  0.1893052625997613       acc:  tensor(97.2283)\n",
            "epoch  7    training loss:  0.18069641186545293       acc:  tensor(97.3700)\n",
            "epoch  7    validation loss:  0.18069641186545293       acc:  tensor(97.3700)\n",
            "epoch  8    training loss:  0.1721157933274905       acc:  tensor(97.4933)\n",
            "epoch  8    validation loss:  0.1721157933274905       acc:  tensor(97.4933)\n",
            "epoch  9    training loss:  0.16350444075651466       acc:  tensor(97.5950)\n",
            "epoch  9    validation loss:  0.16350444075651466       acc:  tensor(97.5950)\n"
          ],
          "name": "stdout"
        }
      ]
    },
    {
      "cell_type": "code",
      "metadata": {
        "id": "WqIvV9WvVoaW",
        "colab_type": "code",
        "colab": {
          "base_uri": "https://localhost:8080/",
          "height": 282
        },
        "outputId": "fd50473a-7d1e-460c-d45d-c8966edc4603"
      },
      "source": [
        "plt.plot(running_loss_his)"
      ],
      "execution_count": 49,
      "outputs": [
        {
          "output_type": "execute_result",
          "data": {
            "text/plain": [
              "[<matplotlib.lines.Line2D at 0x7fb19889f710>]"
            ]
          },
          "metadata": {
            "tags": []
          },
          "execution_count": 49
        },
        {
          "output_type": "display_data",
          "data": {
            "image/png": "[encoded data removed]",
            "text/plain": [
              "<Figure size 432x288 with 1 Axes>"
            ]
          },
          "metadata": {
            "tags": []
          }
        }
      ]
    },
    {
      "cell_type": "code",
      "metadata": {
        "id": "vWe-SzHeVx3A",
        "colab_type": "code",
        "colab": {}
      },
      "source": [
        "# this lr is not so good \n",
        "# if the graph is fluctuate, maybe lr is big ( the direction in gradient descent is in a way flip flop back and forth between points over themin and leading to divergent)"
      ],
      "execution_count": 0,
      "outputs": []
    },
    {
      "cell_type": "code",
      "metadata": {
        "id": "MRRNa-puYdP-",
        "colab_type": "code",
        "colab": {}
      },
      "source": [
        "# try with new learning rate\n",
        "criterion = nn.CrossEntropyLoss()\n",
        "optimizer = torch.optim.Adam(model.parameters(), lr = 0.0001)"
      ],
      "execution_count": 0,
      "outputs": []
    },
    {
      "cell_type": "code",
      "metadata": {
        "id": "WD3kl-9AY56V",
        "colab_type": "code",
        "colab": {
          "base_uri": "https://localhost:8080/",
          "height": 282
        },
        "outputId": "654959e1-cbd4-4db2-c6ed-0b378a3cb1fe"
      },
      "source": [
        "plt.plot(running_loss_his)"
      ],
      "execution_count": 12,
      "outputs": [
        {
          "output_type": "execute_result",
          "data": {
            "text/plain": [
              "[<matplotlib.lines.Line2D at 0x7fbbc08a26d8>]"
            ]
          },
          "metadata": {
            "tags": []
          },
          "execution_count": 12
        },
        {
          "output_type": "display_data",
          "data": {
            "image/png": "[encoded data removed]",
            "text/plain": [
              "<Figure size 432x288 with 1 Axes>"
            ]
          },
          "metadata": {
            "tags": []
          }
        }
      ]
    },
    {
      "cell_type": "code",
      "metadata": {
        "id": "OcJyJ1I-ZMW5",
        "colab_type": "code",
        "colab": {
          "base_uri": "https://localhost:8080/",
          "height": 282
        },
        "outputId": "3b888610-5799-49ab-c45f-eb7a24eafd49"
      },
      "source": [
        "# the res looks better\n",
        "plt.plot(running_corrects_his)"
      ],
      "execution_count": 53,
      "outputs": [
        {
          "output_type": "execute_result",
          "data": {
            "text/plain": [
              "[<matplotlib.lines.Line2D at 0x7fb199ef7c18>]"
            ]
          },
          "metadata": {
            "tags": []
          },
          "execution_count": 53
        },
        {
          "output_type": "display_data",
          "data": {
            "image/png": "[encoded data removed]",
            "text/plain": [
              "<Figure size 432x288 with 1 Axes>"
            ]
          },
          "metadata": {
            "tags": []
          }
        }
      ]
    },
    {
      "cell_type": "code",
      "metadata": {
        "id": "oTwaz0mUeoxh",
        "colab_type": "code",
        "colab": {
          "base_uri": "https://localhost:8080/",
          "height": 282
        },
        "outputId": "ba642f09-501b-4f0e-82ce-453dfdd6aee7"
      },
      "source": [
        "plt.plot(running_loss_his, label='tranining loss')\n",
        "plt.plot(val_running_loss_his, label='valid loss')\n",
        "plt.legend()"
      ],
      "execution_count": 18,
      "outputs": [
        {
          "output_type": "execute_result",
          "data": {
            "text/plain": [
              "<matplotlib.legend.Legend at 0x7fbbb7bb3780>"
            ]
          },
          "metadata": {
            "tags": []
          },
          "execution_count": 18
        },
        {
          "output_type": "display_data",
          "data": {
            "image/png": "[encoded data removed]",
            "text/plain": [
              "<Figure size 432x288 with 1 Axes>"
            ]
          },
          "metadata": {
            "tags": []
          }
        }
      ]
    }
  ]
}