{
  "nbformat": 4,
  "nbformat_minor": 0,
  "metadata": {
    "colab": {
      "name": "hello.ipynb",
      "provenance": []
    },
    "kernelspec": {
      "name": "python3",
      "display_name": "Python 3"
    },
    "accelerator": "GPU"
  },
  "cells": [
    {
      "cell_type": "code",
      "metadata": {
        "id": "YjQru0mJcvPo",
        "colab_type": "code",
        "colab": {}
      },
      "source": [
        "import torch\n",
        "import matplotlib.pyplot as plt\n",
        "import numpy as np"
      ],
      "execution_count": 0,
      "outputs": []
    },
    {
      "cell_type": "code",
      "metadata": {
        "id": "lI-l8I3Xe9O-",
        "colab_type": "code",
        "outputId": "d5605e88-7ebe-4e77-de6a-d9fc62464c56",
        "colab": {
          "base_uri": "https://localhost:8080/",
          "height": 51
        }
      },
      "source": [
        "x = torch.tensor([1, 2, 3, 4]).view(2, -1)\n",
        "print(x)"
      ],
      "execution_count": 0,
      "outputs": [
        {
          "output_type": "stream",
          "text": [
            "tensor([[1, 2],\n",
            "        [3, 4]])\n"
          ],
          "name": "stdout"
        }
      ]
    },
    {
      "cell_type": "code",
      "metadata": {
        "id": "IIWAWps5fKIC",
        "colab_type": "code",
        "outputId": "29857580-f579-4f13-ab95-725641e63216",
        "colab": {
          "base_uri": "https://localhost:8080/",
          "height": 34
        }
      },
      "source": [
        "torch.arange(2, 5)"
      ],
      "execution_count": 0,
      "outputs": [
        {
          "output_type": "execute_result",
          "data": {
            "text/plain": [
              "tensor([2, 3, 4])"
            ]
          },
          "metadata": {
            "tags": []
          },
          "execution_count": 3
        }
      ]
    },
    {
      "cell_type": "code",
      "metadata": {
        "id": "0nCzB6sxfYJj",
        "colab_type": "code",
        "outputId": "bfdbfef2-7ca5-4f62-8f49-df3d7d07c2c4",
        "colab": {
          "base_uri": "https://localhost:8080/",
          "height": 34
        }
      },
      "source": [
        "x = torch.tensor(2.0, requires_grad = True)\n",
        "y = 9*x**4 + 2*x**3 + 3*x**2 + 6*x + 1\n",
        "y.backward()\n",
        "x.grad"
      ],
      "execution_count": 0,
      "outputs": [
        {
          "output_type": "execute_result",
          "data": {
            "text/plain": [
              "tensor(330.)"
            ]
          },
          "metadata": {
            "tags": []
          },
          "execution_count": 4
        }
      ]
    },
    {
      "cell_type": "code",
      "metadata": {
        "id": "ZWV_yc0FhLw-",
        "colab_type": "code",
        "outputId": "a3a147b2-fdf7-48e5-bd79-98bb0d65538b",
        "colab": {
          "base_uri": "https://localhost:8080/",
          "height": 34
        }
      },
      "source": [
        "x = torch.tensor(1.0, requires_grad=True)\n",
        "z = torch.tensor(2.0, requires_grad=True)\n",
        "y = x**2 + z**3\n",
        "y.backward()\n",
        "z.grad\n"
      ],
      "execution_count": 0,
      "outputs": [
        {
          "output_type": "execute_result",
          "data": {
            "text/plain": [
              "tensor(12.)"
            ]
          },
          "metadata": {
            "tags": []
          },
          "execution_count": 5
        }
      ]
    },
    {
      "cell_type": "code",
      "metadata": {
        "id": "RAJIrIqMhjdZ",
        "colab_type": "code",
        "outputId": "f6d5871e-dd60-44bd-ae00-0ec3a5b549e7",
        "colab": {
          "base_uri": "https://localhost:8080/",
          "height": 102
        }
      },
      "source": [
        "from torch.nn import Linear\n",
        "torch.manual_seed(2)\n",
        "model = Linear(in_features = 1, out_features = 1)\n",
        "print(model.bias,'\\n',model.weight, '\\n', model.bias[0])\n"
      ],
      "execution_count": 0,
      "outputs": [
        {
          "output_type": "stream",
          "text": [
            "Parameter containing:\n",
            "tensor([-0.2380], requires_grad=True) \n",
            " Parameter containing:\n",
            "tensor([[0.2294]], requires_grad=True) \n",
            " tensor(-0.2380, grad_fn=<SelectBackward>)\n"
          ],
          "name": "stdout"
        }
      ]
    },
    {
      "cell_type": "code",
      "metadata": {
        "id": "NsSKCO-DkBxt",
        "colab_type": "code",
        "outputId": "c49559e5-6c35-4e6f-821c-4a98350f2e83",
        "colab": {
          "base_uri": "https://localhost:8080/",
          "height": 51
        }
      },
      "source": [
        "x = torch.tensor([ [2.0], [3.3]])\n",
        "print(model(x))"
      ],
      "execution_count": 0,
      "outputs": [
        {
          "output_type": "stream",
          "text": [
            "tensor([[0.2208],\n",
            "        [0.5190]], grad_fn=<AddmmBackward>)\n"
          ],
          "name": "stdout"
        }
      ]
    },
    {
      "cell_type": "code",
      "metadata": {
        "id": "b87VqhlnlpCY",
        "colab_type": "code",
        "colab": {}
      },
      "source": [
        "import torch.nn as nn\n",
        "class LR(nn.Module):\n",
        "  def __init__(self, input_size, output_size):\n",
        "    super().__init__()\n",
        "    self.linear = nn.Linear(input_size, output_size)\n",
        "  def forward(self, x):\n",
        "    pred = self.linear(x)\n",
        "    return pred"
      ],
      "execution_count": 0,
      "outputs": []
    },
    {
      "cell_type": "code",
      "metadata": {
        "id": "BeT8XA90mDWx",
        "colab_type": "code",
        "outputId": "ec874c9e-064d-4763-9084-72d5f0d7c816",
        "colab": {
          "base_uri": "https://localhost:8080/",
          "height": 51
        }
      },
      "source": [
        "torch.manual_seed(1)\n",
        "model = LR(1, 1)\n",
        "x = torch.tensor([[1.0], [2.0]])\n",
        "print(x)\n"
      ],
      "execution_count": 0,
      "outputs": [
        {
          "output_type": "stream",
          "text": [
            "tensor([[1.],\n",
            "        [2.]])\n"
          ],
          "name": "stdout"
        }
      ]
    },
    {
      "cell_type": "code",
      "metadata": {
        "id": "82oKmK6F8-G7",
        "colab_type": "code",
        "outputId": "cab82f82-d311-4963-a9c4-9f446b6fb7c3",
        "colab": {
          "base_uri": "https://localhost:8080/",
          "height": 51
        }
      },
      "source": [
        "\n",
        "print(model.forward(x))"
      ],
      "execution_count": 0,
      "outputs": [
        {
          "output_type": "stream",
          "text": [
            "tensor([[0.0739],\n",
            "        [0.5891]], grad_fn=<AddmmBackward>)\n"
          ],
          "name": "stdout"
        }
      ]
    },
    {
      "cell_type": "code",
      "metadata": {
        "id": "_SVQynsF_DnU",
        "colab_type": "code",
        "outputId": "9b0be60f-f562-4150-e095-c87b05ee510d",
        "colab": {
          "base_uri": "https://localhost:8080/",
          "height": 282
        }
      },
      "source": [
        "X = torch.randn(100, 1)*10\n",
        "y = X + torch.randn(100, 1)*3\n",
        "plt.plot(X.numpy(), y.numpy(), 'o')"
      ],
      "execution_count": 0,
      "outputs": [
        {
          "output_type": "execute_result",
          "data": {
            "text/plain": [
              "[<matplotlib.lines.Line2D at 0x7f7f8082a4e0>]"
            ]
          },
          "metadata": {
            "tags": []
          },
          "execution_count": 16
        },
        {
          "output_type": "display_data",
          "data": {
            "image/png": "[encoded data removed]",
            "text/plain": [
              "<Figure size 432x288 with 1 Axes>"
            ]
          },
          "metadata": {
            "tags": []
          }
        }
      ]
    },
    {
      "cell_type": "code",
      "metadata": {
        "id": "nlcP8RCm_smT",
        "colab_type": "code",
        "outputId": "76a6a234-f33b-4b37-ceba-c5c882e9e518",
        "colab": {
          "base_uri": "https://localhost:8080/",
          "height": 68
        }
      },
      "source": [
        "[w, b] = model.parameters()\n",
        "print(w, b)\n",
        "def get_params():\n",
        "  return (w[0][0].item(), b[0].item())\n",
        "\n",
        "def plot_fit(title):\n",
        "  plt.title = title\n",
        "  w1, b1 = get_params()\n",
        "  x1 = np.array([-30, 30])\n",
        "  y1 = w1*x1 + b1\n",
        "  plt.plot(x1, y1, 'r')\n",
        "  plt.scatter(X,y)\n",
        "  plt.show()\n"
      ],
      "execution_count": 0,
      "outputs": [
        {
          "output_type": "stream",
          "text": [
            "Parameter containing:\n",
            "tensor([[0.5153]], requires_grad=True) Parameter containing:\n",
            "tensor([-0.4414], requires_grad=True)\n"
          ],
          "name": "stdout"
        }
      ]
    },
    {
      "cell_type": "code",
      "metadata": {
        "id": "fF06BU8pOZNx",
        "colab_type": "code",
        "outputId": "2d11c3f8-0dff-4b2e-82e4-583f7183d75b",
        "colab": {
          "base_uri": "https://localhost:8080/",
          "height": 265
        }
      },
      "source": [
        "plot_fit('Init model')"
      ],
      "execution_count": 0,
      "outputs": [
        {
          "output_type": "display_data",
          "data": {
            "image/png": "[encoded data removed]",
            "text/plain": [
              "<Figure size 432x288 with 1 Axes>"
            ]
          },
          "metadata": {
            "tags": []
          }
        }
      ]
    },
    {
      "cell_type": "code",
      "metadata": {
        "id": "XmF2c4J0QAVX",
        "colab_type": "code",
        "colab": {}
      },
      "source": [
        "criterion = nn.MSELoss()\n",
        "optimizer = torch.optim.SGD(model.parameters(), lr = 0.01)\n"
      ],
      "execution_count": 0,
      "outputs": []
    },
    {
      "cell_type": "code",
      "metadata": {
        "id": "QTAsHxHNZzfL",
        "colab_type": "code",
        "outputId": "4869c59f-6fe8-483f-a0c1-f41e6c5ed5ec",
        "colab": {
          "base_uri": "https://localhost:8080/",
          "height": 1000
        }
      },
      "source": [
        "epochs = 100\n",
        "losses = []\n",
        "for i in range(epochs):\n",
        "  y_pred = model.forward(X)  #  calculate y_pred now \n",
        "  loss = criterion(y_pred, y) # calculate the loss \n",
        "  print(\"epoch: \", i, \"loss: \", loss)\n",
        "\n",
        "  losses.append(loss)\n",
        "  optimizer.zero_grad()      # \n",
        "  loss.backward()            #  derivative the loss\n",
        "  optimizer.step()           #  update the model's weight\n",
        "  "
      ],
      "execution_count": 0,
      "outputs": [
        {
          "output_type": "stream",
          "text": [
            "epoch:  0 loss:  tensor(28.9146, grad_fn=<MseLossBackward>)\n",
            "epoch:  1 loss:  tensor(20.6130, grad_fn=<MseLossBackward>)\n",
            "epoch:  2 loss:  tensor(15.9653, grad_fn=<MseLossBackward>)\n",
            "epoch:  3 loss:  tensor(13.3633, grad_fn=<MseLossBackward>)\n",
            "epoch:  4 loss:  tensor(11.9066, grad_fn=<MseLossBackward>)\n",
            "epoch:  5 loss:  tensor(11.0910, grad_fn=<MseLossBackward>)\n",
            "epoch:  6 loss:  tensor(10.6344, grad_fn=<MseLossBackward>)\n",
            "epoch:  7 loss:  tensor(10.3788, grad_fn=<MseLossBackward>)\n",
            "epoch:  8 loss:  tensor(10.2356, grad_fn=<MseLossBackward>)\n",
            "epoch:  9 loss:  tensor(10.1555, grad_fn=<MseLossBackward>)\n",
            "epoch:  10 loss:  tensor(10.1106, grad_fn=<MseLossBackward>)\n",
            "epoch:  11 loss:  tensor(10.0854, grad_fn=<MseLossBackward>)\n",
            "epoch:  12 loss:  tensor(10.0713, grad_fn=<MseLossBackward>)\n",
            "epoch:  13 loss:  tensor(10.0634, grad_fn=<MseLossBackward>)\n",
            "epoch:  14 loss:  tensor(10.0590, grad_fn=<MseLossBackward>)\n",
            "epoch:  15 loss:  tensor(10.0565, grad_fn=<MseLossBackward>)\n",
            "epoch:  16 loss:  tensor(10.0551, grad_fn=<MseLossBackward>)\n",
            "epoch:  17 loss:  tensor(10.0542, grad_fn=<MseLossBackward>)\n",
            "epoch:  18 loss:  tensor(10.0538, grad_fn=<MseLossBackward>)\n",
            "epoch:  19 loss:  tensor(10.0535, grad_fn=<MseLossBackward>)\n",
            "epoch:  20 loss:  tensor(10.0533, grad_fn=<MseLossBackward>)\n",
            "epoch:  21 loss:  tensor(10.0532, grad_fn=<MseLossBackward>)\n",
            "epoch:  22 loss:  tensor(10.0532, grad_fn=<MseLossBackward>)\n",
            "epoch:  23 loss:  tensor(10.0531, grad_fn=<MseLossBackward>)\n",
            "epoch:  24 loss:  tensor(10.0531, grad_fn=<MseLossBackward>)\n",
            "epoch:  25 loss:  tensor(10.0531, grad_fn=<MseLossBackward>)\n",
            "epoch:  26 loss:  tensor(10.0530, grad_fn=<MseLossBackward>)\n",
            "epoch:  27 loss:  tensor(10.0530, grad_fn=<MseLossBackward>)\n",
            "epoch:  28 loss:  tensor(10.0530, grad_fn=<MseLossBackward>)\n",
            "epoch:  29 loss:  tensor(10.0530, grad_fn=<MseLossBackward>)\n",
            "epoch:  30 loss:  tensor(10.0529, grad_fn=<MseLossBackward>)\n",
            "epoch:  31 loss:  tensor(10.0529, grad_fn=<MseLossBackward>)\n",
            "epoch:  32 loss:  tensor(10.0529, grad_fn=<MseLossBackward>)\n",
            "epoch:  33 loss:  tensor(10.0529, grad_fn=<MseLossBackward>)\n",
            "epoch:  34 loss:  tensor(10.0529, grad_fn=<MseLossBackward>)\n",
            "epoch:  35 loss:  tensor(10.0529, grad_fn=<MseLossBackward>)\n",
            "epoch:  36 loss:  tensor(10.0528, grad_fn=<MseLossBackward>)\n",
            "epoch:  37 loss:  tensor(10.0528, grad_fn=<MseLossBackward>)\n",
            "epoch:  38 loss:  tensor(10.0528, grad_fn=<MseLossBackward>)\n",
            "epoch:  39 loss:  tensor(10.0528, grad_fn=<MseLossBackward>)\n",
            "epoch:  40 loss:  tensor(10.0528, grad_fn=<MseLossBackward>)\n",
            "epoch:  41 loss:  tensor(10.0528, grad_fn=<MseLossBackward>)\n",
            "epoch:  42 loss:  tensor(10.0528, grad_fn=<MseLossBackward>)\n",
            "epoch:  43 loss:  tensor(10.0528, grad_fn=<MseLossBackward>)\n",
            "epoch:  44 loss:  tensor(10.0527, grad_fn=<MseLossBackward>)\n",
            "epoch:  45 loss:  tensor(10.0527, grad_fn=<MseLossBackward>)\n",
            "epoch:  46 loss:  tensor(10.0527, grad_fn=<MseLossBackward>)\n",
            "epoch:  47 loss:  tensor(10.0527, grad_fn=<MseLossBackward>)\n",
            "epoch:  48 loss:  tensor(10.0527, grad_fn=<MseLossBackward>)\n",
            "epoch:  49 loss:  tensor(10.0527, grad_fn=<MseLossBackward>)\n",
            "epoch:  50 loss:  tensor(10.0527, grad_fn=<MseLossBackward>)\n",
            "epoch:  51 loss:  tensor(10.0527, grad_fn=<MseLossBackward>)\n",
            "epoch:  52 loss:  tensor(10.0527, grad_fn=<MseLossBackward>)\n",
            "epoch:  53 loss:  tensor(10.0527, grad_fn=<MseLossBackward>)\n",
            "epoch:  54 loss:  tensor(10.0527, grad_fn=<MseLossBackward>)\n",
            "epoch:  55 loss:  tensor(10.0526, grad_fn=<MseLossBackward>)\n",
            "epoch:  56 loss:  tensor(10.0526, grad_fn=<MseLossBackward>)\n",
            "epoch:  57 loss:  tensor(10.0526, grad_fn=<MseLossBackward>)\n",
            "epoch:  58 loss:  tensor(10.0526, grad_fn=<MseLossBackward>)\n",
            "epoch:  59 loss:  tensor(10.0526, grad_fn=<MseLossBackward>)\n",
            "epoch:  60 loss:  tensor(10.0526, grad_fn=<MseLossBackward>)\n",
            "epoch:  61 loss:  tensor(10.0526, grad_fn=<MseLossBackward>)\n",
            "epoch:  62 loss:  tensor(10.0526, grad_fn=<MseLossBackward>)\n",
            "epoch:  63 loss:  tensor(10.0526, grad_fn=<MseLossBackward>)\n",
            "epoch:  64 loss:  tensor(10.0526, grad_fn=<MseLossBackward>)\n",
            "epoch:  65 loss:  tensor(10.0526, grad_fn=<MseLossBackward>)\n",
            "epoch:  66 loss:  tensor(10.0526, grad_fn=<MseLossBackward>)\n",
            "epoch:  67 loss:  tensor(10.0526, grad_fn=<MseLossBackward>)\n",
            "epoch:  68 loss:  tensor(10.0526, grad_fn=<MseLossBackward>)\n",
            "epoch:  69 loss:  tensor(10.0526, grad_fn=<MseLossBackward>)\n",
            "epoch:  70 loss:  tensor(10.0526, grad_fn=<MseLossBackward>)\n",
            "epoch:  71 loss:  tensor(10.0526, grad_fn=<MseLossBackward>)\n",
            "epoch:  72 loss:  tensor(10.0526, grad_fn=<MseLossBackward>)\n",
            "epoch:  73 loss:  tensor(10.0526, grad_fn=<MseLossBackward>)\n",
            "epoch:  74 loss:  tensor(10.0526, grad_fn=<MseLossBackward>)\n",
            "epoch:  75 loss:  tensor(10.0526, grad_fn=<MseLossBackward>)\n",
            "epoch:  76 loss:  tensor(10.0525, grad_fn=<MseLossBackward>)\n",
            "epoch:  77 loss:  tensor(10.0525, grad_fn=<MseLossBackward>)\n",
            "epoch:  78 loss:  tensor(10.0525, grad_fn=<MseLossBackward>)\n",
            "epoch:  79 loss:  tensor(10.0525, grad_fn=<MseLossBackward>)\n",
            "epoch:  80 loss:  tensor(10.0525, grad_fn=<MseLossBackward>)\n",
            "epoch:  81 loss:  tensor(10.0525, grad_fn=<MseLossBackward>)\n",
            "epoch:  82 loss:  tensor(10.0525, grad_fn=<MseLossBackward>)\n",
            "epoch:  83 loss:  tensor(10.0525, grad_fn=<MseLossBackward>)\n",
            "epoch:  84 loss:  tensor(10.0525, grad_fn=<MseLossBackward>)\n",
            "epoch:  85 loss:  tensor(10.0525, grad_fn=<MseLossBackward>)\n",
            "epoch:  86 loss:  tensor(10.0525, grad_fn=<MseLossBackward>)\n",
            "epoch:  87 loss:  tensor(10.0525, grad_fn=<MseLossBackward>)\n",
            "epoch:  88 loss:  tensor(10.0525, grad_fn=<MseLossBackward>)\n",
            "epoch:  89 loss:  tensor(10.0525, grad_fn=<MseLossBackward>)\n",
            "epoch:  90 loss:  tensor(10.0525, grad_fn=<MseLossBackward>)\n",
            "epoch:  91 loss:  tensor(10.0525, grad_fn=<MseLossBackward>)\n",
            "epoch:  92 loss:  tensor(10.0525, grad_fn=<MseLossBackward>)\n",
            "epoch:  93 loss:  tensor(10.0525, grad_fn=<MseLossBackward>)\n",
            "epoch:  94 loss:  tensor(10.0525, grad_fn=<MseLossBackward>)\n",
            "epoch:  95 loss:  tensor(10.0525, grad_fn=<MseLossBackward>)\n",
            "epoch:  96 loss:  tensor(10.0525, grad_fn=<MseLossBackward>)\n",
            "epoch:  97 loss:  tensor(10.0525, grad_fn=<MseLossBackward>)\n",
            "epoch:  98 loss:  tensor(10.0525, grad_fn=<MseLossBackward>)\n",
            "epoch:  99 loss:  tensor(10.0525, grad_fn=<MseLossBackward>)\n"
          ],
          "name": "stdout"
        }
      ]
    },
    {
      "cell_type": "code",
      "metadata": {
        "id": "_kUxASLVbxs5",
        "colab_type": "code",
        "outputId": "05f1784e-fd59-49f7-dbcd-83eb8695b3fb",
        "colab": {
          "base_uri": "https://localhost:8080/",
          "height": 282
        }
      },
      "source": [
        "plt.plot(np.arange(epochs), losses)"
      ],
      "execution_count": 0,
      "outputs": [
        {
          "output_type": "execute_result",
          "data": {
            "text/plain": [
              "[<matplotlib.lines.Line2D at 0x7f7f8027a828>]"
            ]
          },
          "metadata": {
            "tags": []
          },
          "execution_count": 31
        },
        {
          "output_type": "display_data",
          "data": {
            "image/png": "[encoded data removed]",
            "text/plain": [
              "<Figure size 432x288 with 1 Axes>"
            ]
          },
          "metadata": {
            "tags": []
          }
        }
      ]
    },
    {
      "cell_type": "code",
      "metadata": {
        "id": "OSjmhq9wUiI4",
        "colab_type": "code",
        "outputId": "7c35a986-d763-4bd9-edd6-7e14335a0164",
        "colab": {
          "base_uri": "https://localhost:8080/",
          "height": 265
        }
      },
      "source": [
        "plot_fit(\"trained model\")"
      ],
      "execution_count": 0,
      "outputs": [
        {
          "output_type": "display_data",
          "data": {
            "image/png": "[encoded data removed]",
            "text/plain": [
              "<Figure size 432x288 with 1 Axes>"
            ]
          },
          "metadata": {
            "tags": []
          }
        }
      ]
    },
    {
      "cell_type": "code",
      "metadata": {
        "id": "WIq-6S_Odq04",
        "colab_type": "code",
        "outputId": "3eb5b3d8-c87e-428d-de75-a69e4355f117",
        "colab": {
          "base_uri": "https://localhost:8080/",
          "height": 34
        }
      },
      "source": [
        "get_params()"
      ],
      "execution_count": 0,
      "outputs": [
        {
          "output_type": "execute_result",
          "data": {
            "text/plain": [
              "(0.9800482988357544, -0.4760326147079468)"
            ]
          },
          "metadata": {
            "tags": []
          },
          "execution_count": 34
        }
      ]
    }
  ]
}